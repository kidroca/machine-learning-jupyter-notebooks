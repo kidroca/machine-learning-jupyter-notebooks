{
 "cells": [
  {
   "cell_type": "code",
   "execution_count": 1,
   "metadata": {
    "collapsed": true
   },
   "outputs": [],
   "source": [
    "%matplotlib inline\n",
    "import numpy as np\n",
    "import pandas as pd\n",
    "import matplotlib.pyplot as plt\n",
    "import tensorflow as tf"
   ]
  },
  {
   "cell_type": "code",
   "execution_count": 2,
   "metadata": {},
   "outputs": [
    {
     "name": "stdout",
     "output_type": "stream",
     "text": [
      "Extracting MNIST_data/train-images-idx3-ubyte.gz\n",
      "Extracting MNIST_data/train-labels-idx1-ubyte.gz\n",
      "Extracting MNIST_data/t10k-images-idx3-ubyte.gz\n",
      "Extracting MNIST_data/t10k-labels-idx1-ubyte.gz\n"
     ]
    }
   ],
   "source": [
    "from tensorflow.examples.tutorials.mnist import input_data\n",
    "mnist = input_data.read_data_sets('MNIST_data/', one_hot=True)"
   ]
  },
  {
   "cell_type": "code",
   "execution_count": 3,
   "metadata": {
    "collapsed": true
   },
   "outputs": [],
   "source": [
    "x = tf.placeholder(tf.float32, [None, 784]) # 28 x 28 pixel images\n",
    "y = tf.placeholder(tf.float32, [None, 10]) # 10 classes"
   ]
  },
  {
   "cell_type": "code",
   "execution_count": 4,
   "metadata": {
    "collapsed": true
   },
   "outputs": [],
   "source": [
    "a = tf.Variable(tf.zeros([784, 10]), name = \"weight\") # matrix\n",
    "b = tf.Variable(tf.zeros([10]), name = \"bias\") # vector"
   ]
  },
  {
   "cell_type": "code",
   "execution_count": 5,
   "metadata": {
    "collapsed": true
   },
   "outputs": [],
   "source": [
    "pred = tf.nn.softmax(tf.matmul(x, a) + b) # matmul -> matrix multiplication\n",
    "cost = tf.reduce_mean(-tf.reduce_sum(y * tf.log(pred), axis=1))"
   ]
  },
  {
   "cell_type": "code",
   "execution_count": 6,
   "metadata": {
    "collapsed": true
   },
   "outputs": [],
   "source": [
    "optimizer = tf.train.GradientDescentOptimizer(learning_rate = 0.01).minimize(cost)\n",
    "init = tf.global_variables_initializer()"
   ]
  },
  {
   "cell_type": "code",
   "execution_count": 7,
   "metadata": {
    "collapsed": true
   },
   "outputs": [],
   "source": [
    "correct_prediction = tf.equal(tf.argmax(pred, axis = 1), tf.argmax(y, axis = 1))\n",
    "accuracy = tf.reduce_mean(tf.cast(correct_prediction, tf.float32))"
   ]
  },
  {
   "cell_type": "code",
   "execution_count": 8,
   "metadata": {},
   "outputs": [
    {
     "name": "stdout",
     "output_type": "stream",
     "text": [
      "('Epoch = ', 0, 'Cost = ', 0.84853005)\n",
      "('Accuracy = ', 0.84759998)\n",
      "('Epoch = ', 1, 'Cost = ', 0.65392548)\n",
      "('Accuracy = ', 0.86540002)\n",
      "('Epoch = ', 2, 'Cost = ', 0.60164094)\n",
      "('Accuracy = ', 0.87690002)\n",
      "('Epoch = ', 3, 'Cost = ', 0.44988608)\n",
      "('Accuracy = ', 0.88200003)\n",
      "('Epoch = ', 4, 'Cost = ', 0.62855923)\n",
      "('Accuracy = ', 0.8872)\n",
      "('Epoch = ', 5, 'Cost = ', 0.56864458)\n",
      "('Accuracy = ', 0.89050001)\n",
      "('Epoch = ', 6, 'Cost = ', 0.49861744)\n",
      "('Accuracy = ', 0.89319998)\n",
      "('Epoch = ', 7, 'Cost = ', 0.52664065)\n",
      "('Accuracy = ', 0.89560002)\n",
      "('Epoch = ', 8, 'Cost = ', 0.41086423)\n",
      "('Accuracy = ', 0.89770001)\n",
      "('Epoch = ', 9, 'Cost = ', 0.45881277)\n",
      "('Accuracy = ', 0.89960003)\n",
      "('Epoch = ', 10, 'Cost = ', 0.53345948)\n",
      "('Accuracy = ', 0.90039998)\n",
      "('Epoch = ', 11, 'Cost = ', 0.49737877)\n",
      "('Accuracy = ', 0.9012)\n",
      "('Epoch = ', 12, 'Cost = ', 0.31583533)\n",
      "('Accuracy = ', 0.90259999)\n",
      "('Epoch = ', 13, 'Cost = ', 0.47610623)\n",
      "('Accuracy = ', 0.90420002)\n",
      "('Epoch = ', 14, 'Cost = ', 0.38770705)\n",
      "('Accuracy = ', 0.9052)\n",
      "('Epoch = ', 15, 'Cost = ', 0.29169405)\n",
      "('Accuracy = ', 0.90619999)\n",
      "('Epoch = ', 16, 'Cost = ', 0.30340177)\n",
      "('Accuracy = ', 0.9066)\n",
      "('Epoch = ', 17, 'Cost = ', 0.47035325)\n",
      "('Accuracy = ', 0.90759999)\n",
      "('Epoch = ', 18, 'Cost = ', 0.4095301)\n",
      "('Accuracy = ', 0.90780002)\n",
      "('Epoch = ', 19, 'Cost = ', 0.33143562)\n",
      "('Accuracy = ', 0.90880001)\n",
      "Optimization Finished\n"
     ]
    }
   ],
   "source": [
    "batch_size = 128\n",
    "with tf.Session() as sess:\n",
    "    sess.run(init)\n",
    "    \n",
    "    for epoch in range(20):\n",
    "        \n",
    "        avg_cost = 0\n",
    "        total_batch = int(mnist.train.num_examples / batch_size)\n",
    "        \n",
    "        for batch in range(total_batch):\n",
    "            \n",
    "            train_x, train_y = mnist.train.next_batch(batch_size = batch_size)\n",
    "            o, c = sess.run([optimizer, cost], feed_dict = {x: train_x, y: train_y})\n",
    "            \n",
    "            avg_cost += c / total_batch\n",
    "            \n",
    "        print(\"Epoch = \", epoch, \"Cost = \", c)\n",
    "        print(\"Accuracy = \", accuracy.eval(feed_dict = {x: mnist.test.images, y: mnist.test.labels}))\n",
    "\n",
    "print(\"Optimization Finished\")"
   ]
  },
  {
   "cell_type": "code",
   "execution_count": null,
   "metadata": {
    "collapsed": true
   },
   "outputs": [],
   "source": []
  }
 ],
 "metadata": {
  "kernelspec": {
   "display_name": "Python 2",
   "language": "python",
   "name": "python2"
  },
  "language_info": {
   "codemirror_mode": {
    "name": "ipython",
    "version": 2
   },
   "file_extension": ".py",
   "mimetype": "text/x-python",
   "name": "python",
   "nbconvert_exporter": "python",
   "pygments_lexer": "ipython2",
   "version": "2.7.12"
  }
 },
 "nbformat": 4,
 "nbformat_minor": 2
}
